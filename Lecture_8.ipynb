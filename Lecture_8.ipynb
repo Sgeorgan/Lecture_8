{
 "cells": [
  {
   "cell_type": "markdown",
   "id": "3697c879",
   "metadata": {},
   "source": [
    "# Introduction to NumPy\n",
    "\n",
    "## What is NumPy?\n",
    "NumPy is a fundamental package for scientific computing in Python. It provides support for arrays, matrices, and many mathematical functions that are useful in data analysis. In the field of geomatics, NumPy is particularly valuable for handling large datasets, performing numerical calculations, and integrating with other Python libraries for geospatial data analysis.\n",
    "\n",
    "## Importance of NumPy in Geomatics and Data Analysis\n",
    "In geomatics, you often work with large datasets, such as raster images, point clouds, or tabular data with coordinates. NumPy makes it easy to perform efficient computations on these datasets, whether you're performing basic arithmetic operations, calculating distances between points, or transforming coordinates.\n",
    "\n",
    "This tutorial will guide you through the basics of NumPy and demonstrate how it can be applied to common tasks in geomatics."
   ]
  },
  {
   "cell_type": "markdown",
   "id": "8037ab1b",
   "metadata": {},
   "source": [
    "NumPy runs behind the scenes in pandas. Pandas is built on top of NumPy and heavily relies on NumPy's data structures and functions to operate efficiently. NumPy is generally better suited than pandas for working with rasters due to efficiency."
   ]
  },
  {
   "cell_type": "markdown",
   "id": "918e9455",
   "metadata": {},
   "source": [
    "## Creating NumPy Arrays\n",
    "Let's start by creating a simple NumPy array"
   ]
  },
  {
   "cell_type": "code",
   "execution_count": null,
   "id": "b86b0ae7",
   "metadata": {},
   "outputs": [],
   "source": [
    "import numpy as np"
   ]
  },
  {
   "cell_type": "code",
   "execution_count": null,
   "id": "9491bcad",
   "metadata": {},
   "outputs": [],
   "source": [
    "array_1d = np.array([1, 2, 3, 4, 5])"
   ]
  },
  {
   "cell_type": "code",
   "execution_count": null,
   "id": "24c317e5",
   "metadata": {},
   "outputs": [],
   "source": [
    "print(\"1D Array:\", array_1d)"
   ]
  },
  {
   "cell_type": "markdown",
   "id": "d6842449",
   "metadata": {},
   "source": [
    "There are several ways you can select elements in an array. When using brackets, the selection is similar to a list()"
   ]
  },
  {
   "cell_type": "code",
   "execution_count": null,
   "id": "16351d1a",
   "metadata": {},
   "outputs": [],
   "source": [
    "array_1d[0]"
   ]
  },
  {
   "cell_type": "code",
   "execution_count": null,
   "id": "195f2ea7",
   "metadata": {},
   "outputs": [],
   "source": [
    "array_1d[1]"
   ]
  },
  {
   "cell_type": "code",
   "execution_count": null,
   "id": "be7287a8",
   "metadata": {},
   "outputs": [],
   "source": [
    "array_1d[-1]"
   ]
  },
  {
   "cell_type": "markdown",
   "id": "3330e680",
   "metadata": {},
   "source": [
    "Let's create a 2D array!"
   ]
  },
  {
   "cell_type": "code",
   "execution_count": null,
   "id": "30343d20",
   "metadata": {},
   "outputs": [],
   "source": [
    "# Creating a 2D array (e.g., representing coordinates in a 2D space)\n",
    "array_2d = np.array([[1, 2], [3, 4], [5, 6]])\n",
    "print(\"2D Array:\\n\", array_2d)"
   ]
  },
  {
   "cell_type": "code",
   "execution_count": null,
   "id": "af43b0ee",
   "metadata": {},
   "outputs": [],
   "source": [
    "# Array Data Types\n",
    "# Checking the data type of an array\n",
    "print(\"Data type of array_1d:\", array_1d.dtype)\n"
   ]
  },
  {
   "cell_type": "code",
   "execution_count": null,
   "id": "da6113bf",
   "metadata": {},
   "outputs": [],
   "source": [
    "array_2d[0]"
   ]
  },
  {
   "cell_type": "markdown",
   "id": "b04ef8df",
   "metadata": {},
   "source": [
    "Let's simulate a raster image now."
   ]
  },
  {
   "cell_type": "code",
   "execution_count": null,
   "id": "8a918214",
   "metadata": {},
   "outputs": [],
   "source": [
    "# Define the dimensions of the raster (e.g., 100x100 pixels)\n",
    "rows, cols = 100, 100\n",
    "\n",
    "# Create an empty raster (initialized with zeros, representing a black image)\n",
    "raster = np.zeros((rows, cols), dtype=np.uint8)\n",
    "raster"
   ]
  },
  {
   "cell_type": "markdown",
   "id": "955c753f",
   "metadata": {},
   "source": [
    "Let's say we want to change the values of the first 3 rows and 2 rows. We can do that with slicing."
   ]
  },
  {
   "cell_type": "markdown",
   "id": "dd762373",
   "metadata": {},
   "source": [
    "The slice raster[0:3, 0:3] selects the first three rows and the first 3 columns of the raster.\n",
    "\n"
   ]
  },
  {
   "cell_type": "code",
   "execution_count": null,
   "id": "243e2f6f",
   "metadata": {},
   "outputs": [],
   "source": [
    "# You can set specific pixel values (for example, setting a square in the center to white)\n",
    "raster[0:3, 0:70] = 255  \n",
    "\n",
    "print(raster)"
   ]
  },
  {
   "cell_type": "markdown",
   "id": "99e3356f",
   "metadata": {},
   "source": [
    "Using slicing we can access a single or a set of values from the elements within the array."
   ]
  },
  {
   "cell_type": "code",
   "execution_count": null,
   "id": "57b74fcd",
   "metadata": {},
   "outputs": [],
   "source": [
    "\n",
    "print(\"First element of raster:\", raster[0,0])\n"
   ]
  },
  {
   "cell_type": "code",
   "execution_count": null,
   "id": "93643957",
   "metadata": {},
   "outputs": [],
   "source": [
    "print(\"First row of raster:\", raster[0, :])"
   ]
  },
  {
   "cell_type": "code",
   "execution_count": null,
   "id": "7c010f91",
   "metadata": {},
   "outputs": [],
   "source": [
    "print(\"First column of raster:\", raster[ :,0])"
   ]
  },
  {
   "cell_type": "code",
   "execution_count": null,
   "id": "51d3bc95",
   "metadata": {},
   "outputs": [],
   "source": [
    "\n",
    "# Slicing the array\n",
    "print(\"Last two elements of raster:\", raster[-2,-2:])"
   ]
  },
  {
   "cell_type": "markdown",
   "id": "e053ad2a",
   "metadata": {},
   "source": [
    "We can also do mathematical operations quickly."
   ]
  },
  {
   "cell_type": "code",
   "execution_count": null,
   "id": "1d9b00e1",
   "metadata": {},
   "outputs": [],
   "source": [
    "\n",
    "# Basic Array Operations\n",
    "# Performing element-wise operations\n",
    "raster_sum = raster - 1\n",
    "print(\"Array after adding 10:\", raster_sum)\n",
    "\n"
   ]
  },
  {
   "cell_type": "markdown",
   "id": "113f7ad9",
   "metadata": {},
   "source": [
    "This seems bizzare but there is an explanation. The uint8 data type in NumPy is an 8-bit unsigned integer, which can store values from 0 to 255. Since it is unsigned, it cannot represent negative numbers. The default option is unsigned and that is why this is happening. To change this we have to specify the format."
   ]
  },
  {
   "cell_type": "code",
   "execution_count": null,
   "id": "c8f4f014",
   "metadata": {},
   "outputs": [],
   "source": [
    "raster_signed = raster.astype(np.int16)  # or np.int32"
   ]
  },
  {
   "cell_type": "code",
   "execution_count": null,
   "id": "16fb0250",
   "metadata": {},
   "outputs": [],
   "source": [
    "\n",
    "raster_sum = raster_signed - 1\n",
    "print(\"Array after adding 10:\", raster_sum)\n",
    "\n"
   ]
  },
  {
   "cell_type": "markdown",
   "id": "30e18735",
   "metadata": {},
   "source": [
    "Works now!"
   ]
  },
  {
   "cell_type": "code",
   "execution_count": null,
   "id": "9fcc0c17",
   "metadata": {},
   "outputs": [],
   "source": [
    "raster_product = raster_signed * 2\n",
    "print(\"Array after multiplying by 2:\", raster_product)"
   ]
  },
  {
   "cell_type": "markdown",
   "id": "6b2ec3b4",
   "metadata": {},
   "source": [
    "### Array Manipulations"
   ]
  },
  {
   "cell_type": "markdown",
   "id": "b60ac80e",
   "metadata": {},
   "source": [
    "Reshaping an array in NumPy means changing the shape or structure of the array without changing its data."
   ]
  },
  {
   "cell_type": "code",
   "execution_count": null,
   "id": "638c965d",
   "metadata": {},
   "outputs": [],
   "source": [
    "\n",
    "# Reshaping an array\n",
    "reshaped_raster = raster.reshape((5000, 2))\n",
    "print(\"Reshaped raster:\\n\", reshaped_raster)\n"
   ]
  },
  {
   "cell_type": "code",
   "execution_count": null,
   "id": "c990bbab",
   "metadata": {},
   "outputs": [],
   "source": [
    "print(\"Raster:\\n\", raster)"
   ]
  },
  {
   "cell_type": "code",
   "execution_count": null,
   "id": "dcdf2dd7",
   "metadata": {},
   "outputs": [],
   "source": [
    "\n",
    "# Reshaping an array\n",
    "reshaped_raster = raster.reshape((2, 5000))\n",
    "print(\"Reshaped raster:\\n\", reshaped_raster)\n"
   ]
  },
  {
   "cell_type": "markdown",
   "id": "b94169a7",
   "metadata": {},
   "source": [
    "## Combining and Splitting Arrays"
   ]
  },
  {
   "cell_type": "code",
   "execution_count": null,
   "id": "383a9e0d",
   "metadata": {},
   "outputs": [],
   "source": [
    "array_1d"
   ]
  },
  {
   "cell_type": "code",
   "execution_count": null,
   "id": "a295e2a0",
   "metadata": {},
   "outputs": [],
   "source": [
    "# Concatenating two arrays\n",
    "array_concat = np.concatenate((array_1d, array_1d))"
   ]
  },
  {
   "cell_type": "code",
   "execution_count": null,
   "id": "f54c8861",
   "metadata": {},
   "outputs": [],
   "source": [
    "array_concat"
   ]
  },
  {
   "cell_type": "code",
   "execution_count": null,
   "id": "4bc3b47d",
   "metadata": {},
   "outputs": [],
   "source": [
    "# Splitting an array into multiple arrays\n",
    "array_split = np.split(array_1d, [2, 4])\n",
    "print(\"Split Arrays:\", array_split)"
   ]
  },
  {
   "cell_type": "markdown",
   "id": "df15536d",
   "metadata": {},
   "source": [
    "The second argument [2, 4] specifies the indices where the array should be split. For instance if we want to split the array after the first element the code would change to:"
   ]
  },
  {
   "cell_type": "code",
   "execution_count": null,
   "id": "43ad8752",
   "metadata": {},
   "outputs": [],
   "source": [
    "# Splitting an array into multiple arrays\n",
    "array_split = np.split(array_1d, [1])\n",
    "print(\"Split Arrays:\", array_split)"
   ]
  },
  {
   "cell_type": "markdown",
   "id": "7b6efcb9",
   "metadata": {},
   "source": [
    "We can also copy arrays very efficiently with np.copy."
   ]
  },
  {
   "cell_type": "code",
   "execution_count": null,
   "id": "18490f9f",
   "metadata": {},
   "outputs": [],
   "source": [
    "\n",
    "# Creating a copy of an array\n",
    "array_copy = array_1d.copy()\n",
    "array_copy[0] = 100\n",
    "print(\"Original Array:\", array_1d)\n",
    "print(\"Modified Copy:\", array_copy)"
   ]
  },
  {
   "cell_type": "markdown",
   "id": "6de6deff",
   "metadata": {},
   "source": [
    "### Other arithmetic operations"
   ]
  },
  {
   "cell_type": "markdown",
   "id": "420ad632",
   "metadata": {},
   "source": [
    "#### Summing"
   ]
  },
  {
   "cell_type": "code",
   "execution_count": null,
   "id": "e7cca45c",
   "metadata": {},
   "outputs": [],
   "source": [
    "total_sum = np.sum(array_1d)\n",
    "print(\"Sum of elements in array_1d:\", total_sum)\n"
   ]
  },
  {
   "cell_type": "code",
   "execution_count": null,
   "id": "25f950cb",
   "metadata": {},
   "outputs": [],
   "source": [
    "total_sum = np.sum(raster)\n",
    "print(\"Sum of elements in array_1d:\", total_sum)\n"
   ]
  },
  {
   "cell_type": "markdown",
   "id": "67e66545",
   "metadata": {},
   "source": [
    "#### Descriptive statistics"
   ]
  },
  {
   "cell_type": "code",
   "execution_count": null,
   "id": "520b0fae",
   "metadata": {},
   "outputs": [],
   "source": [
    "# Finding the mean of the array\n",
    "mean_value = np.mean(array_1d)\n",
    "print(\"Mean of array_1d:\", mean_value)"
   ]
  },
  {
   "cell_type": "code",
   "execution_count": null,
   "id": "665c0641",
   "metadata": {},
   "outputs": [],
   "source": [
    "# Finding the minimum and maximum values\n",
    "min_value = np.min(array_1d)\n",
    "max_value = np.max(array_1d)\n",
    "print(\"Min:\", min_value, \"Max:\", max_value)"
   ]
  },
  {
   "cell_type": "markdown",
   "id": "1375deb5",
   "metadata": {},
   "source": [
    "#### Trigonometric Functions"
   ]
  },
  {
   "cell_type": "code",
   "execution_count": null,
   "id": "110264c6",
   "metadata": {},
   "outputs": [],
   "source": [
    "\n",
    "array_sin = np.sin(array_1d)\n",
    "print(\"Sine of array_1d:\", array_sin)"
   ]
  },
  {
   "cell_type": "markdown",
   "id": "76411f75",
   "metadata": {},
   "source": [
    "### Thresholding"
   ]
  },
  {
   "cell_type": "markdown",
   "id": "b1619fb7",
   "metadata": {},
   "source": [
    "Let's create a numpy array and use a value around the middle as a threshold."
   ]
  },
  {
   "cell_type": "code",
   "execution_count": null,
   "id": "2bd2923d",
   "metadata": {},
   "outputs": [],
   "source": [
    "import numpy as np\n",
    "\n",
    "# Example array (imagine this as a small grayscale image)\n",
    "image = np.array([[100, 150, 200],\n",
    "                  [50, 130, 180],\n",
    "                  [90, 170, 255]])\n",
    "\n",
    "# Define the threshold\n",
    "threshold = 128\n"
   ]
  },
  {
   "cell_type": "markdown",
   "id": "a0dbdbf6",
   "metadata": {},
   "source": [
    "Now we can manipulate the image values using the np.where operator. "
   ]
  },
  {
   "cell_type": "code",
   "execution_count": null,
   "id": "b7817684",
   "metadata": {},
   "outputs": [],
   "source": [
    "\n",
    "# Apply thresholding\n",
    "thresholded_image = np.where(image < threshold, 0, 255)\n",
    "\n",
    "print(\"Original Image:\\n\", image)\n",
    "print(\"Thresholded Image:\\n\", thresholded_image)\n"
   ]
  },
  {
   "cell_type": "markdown",
   "id": "2cadade2",
   "metadata": {},
   "source": [
    "This example is similar to boolean logic or if statements, but it leverages NumPy's vectorized operations, which allow you to apply conditions to entire arrays at once instead of using explicit loops or multiple if statements! In a traditional way, the task above could be solved with multiple if statements."
   ]
  },
  {
   "cell_type": "code",
   "execution_count": null,
   "id": "5937f57a",
   "metadata": {},
   "outputs": [],
   "source": [
    "# if-else using loops\n",
    "thresholded_image = np.zeros_like(image)  # Create an empty array of the same shape\n",
    "\n",
    "for i in range(image.shape[0]):  # Loop over rows\n",
    "    for j in range(image.shape[1]):  # Loop over columns\n",
    "        if image[i, j] < 128:\n",
    "            thresholded_image[i, j] = 0\n",
    "        else:\n",
    "            thresholded_image[i, j] = 255\n",
    "\n",
    "print(thresholded_image)\n"
   ]
  },
  {
   "cell_type": "markdown",
   "id": "86681568",
   "metadata": {},
   "source": [
    "\n",
    "## References for Further Learning\n",
    "- [NumPy Documentation](https://numpy.org/doc/stable/)\n",
    "- [SciPy Lecture Notes on NumPy](http://scipy-lectures.org/intro/numpy/index.html)\n"
   ]
  },
  {
   "cell_type": "code",
   "execution_count": null,
   "id": "15ed7d28",
   "metadata": {},
   "outputs": [],
   "source": []
  }
 ],
 "metadata": {
  "kernelspec": {
   "display_name": "Python 3 (ipykernel)",
   "language": "python",
   "name": "python3"
  },
  "language_info": {
   "codemirror_mode": {
    "name": "ipython",
    "version": 3
   },
   "file_extension": ".py",
   "mimetype": "text/x-python",
   "name": "python",
   "nbconvert_exporter": "python",
   "pygments_lexer": "ipython3",
   "version": "3.9.18"
  }
 },
 "nbformat": 4,
 "nbformat_minor": 5
}
